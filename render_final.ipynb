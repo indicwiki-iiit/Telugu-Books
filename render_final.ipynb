{
 "cells": [
  {
   "cell_type": "code",
   "execution_count": 1,
   "id": "c7f7d28f",
   "metadata": {},
   "outputs": [],
   "source": [
    "import pandas as pd"
   ]
  },
  {
   "cell_type": "code",
   "execution_count": 2,
   "id": "e16400c2",
   "metadata": {},
   "outputs": [],
   "source": [
    "from jinja2 import Template\n",
    "import pickle\n",
    "from jinja2 import Environment,FileSystemLoader\n",
    "from genXML import tewiki,writePage"
   ]
  },
  {
   "cell_type": "code",
   "execution_count": 7,
   "id": "ec20f018",
   "metadata": {},
   "outputs": [],
   "source": [
    "df = pd.read_csv(\"https://raw.githubusercontent.com/nandithamerugu/telugu_books_data/main/Untitled%20spreadsheet%20-%20Telugu_books_final%20(1).csv\")\n",
    "# print(df)"
   ]
  },
  {
   "cell_type": "code",
   "execution_count": 18,
   "id": "3dd624c2",
   "metadata": {},
   "outputs": [],
   "source": [
    "def getData(row):\n",
    "    data = {\n",
    "        'LANG_CODE':str(row['LANG_CODE']),\n",
    "        'BookName':str(row['BookName']),\n",
    "        'author':str(row['author']),\n",
    "        'publisher':str(row['publisher']),\n",
    "        'PLACE_OF_PUB':str(row['PLACE_OF_PUB']),\n",
    "        'PAGINATION':str(row['PAGINATION']),\n",
    "        'ITEM_RUPEES':str(row['ITEM_RUPEES']),\n",
    "        'YEAR_OF_PUB':str(row['YEAR_OF_PUB']),\n",
    "        'ISBN':str(row['ISBN']),\n",
    "        \n",
    "    }\n",
    "    return data"
   ]
  },
  {
   "cell_type": "code",
   "execution_count": 21,
   "id": "10613064",
   "metadata": {},
   "outputs": [],
   "source": [
    "\n",
    "def main():\n",
    "    file_loader = FileSystemLoader('./')\n",
    "    env = Environment(loader=file_loader)\n",
    "    template = env.get_template('books.j2')\n",
    "\n",
    "    # Load the data (.pkl)\n",
    "    moviesDF = pickle.load(open('./123.pkl', 'rb'))\n",
    "\n",
    "    # Test XML generation\n",
    "    # ids = ['tt0111161','tt0252487','tt0068646','tt0050083','tt0093603','tt0468569','tt0252488','tt0167260','tt0110912','tt10888594','tt0417056','tt0096870','tt0060666','tt0421051','tt0808240','tt5988370','tt4009460','tt7886848','tt6038600','tt7221896']\n",
    "\n",
    "    # remove this to generate articles for all movies\n",
    "    ids = moviesDF.IMDbID.tolist()\n",
    "    ids = ids[200:250]\n",
    "\n",
    "\n",
    "\n",
    "    fobj = open('TeluguBooks.xml', 'w')\n",
    "    fobj.write(tewiki+'\\n')\n",
    "\n",
    "           # Give the page_id from which you want to generate the articles in\n",
    "    initial_page_id = 500000\n",
    "\n",
    "        # Loop to grab all data from the .pkl and generate articles using the template\n",
    "    \n",
    "    for i, movieId in enumerate(ids):\n",
    "        # row = moviesDF.loc[moviesDF['IMDbID']==movieId]\n",
    "        row = df.iloc[i]\n",
    "        title = \"Telugu Heading\"\n",
    "        text = template.render(getData(row))\n",
    "\n",
    "        writePage(initial_page_id, title, text, fobj)\n",
    "        initial_page_id += 1\n",
    "        # print(text, '\\n')\n",
    "\n",
    "    fobj.write('</mediawiki>')\n",
    "    fobj.close()\n"
   ]
  },
  {
   "cell_type": "code",
   "execution_count": 22,
   "id": "a186a6af",
   "metadata": {},
   "outputs": [],
   "source": [
    "main()"
   ]
  },
  {
   "cell_type": "code",
   "execution_count": null,
   "id": "bfc2d1b3",
   "metadata": {},
   "outputs": [],
   "source": []
  }
 ],
 "metadata": {
  "kernelspec": {
   "display_name": "Python 3 (ipykernel)",
   "language": "python",
   "name": "python3"
  },
  "language_info": {
   "codemirror_mode": {
    "name": "ipython",
    "version": 3
   },
   "file_extension": ".py",
   "mimetype": "text/x-python",
   "name": "python",
   "nbconvert_exporter": "python",
   "pygments_lexer": "ipython3",
   "version": "3.9.7"
  }
 },
 "nbformat": 4,
 "nbformat_minor": 5
}
