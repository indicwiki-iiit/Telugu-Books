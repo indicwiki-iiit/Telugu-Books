{
  "nbformat": 4,
  "nbformat_minor": 0,
  "metadata": {
    "colab": {
      "name": "dataCollectionFromKinige.ipynb",
      "provenance": [],
      "collapsed_sections": []
    },
    "kernelspec": {
      "name": "python3",
      "display_name": "Python 3"
    },
    "language_info": {
      "name": "python"
    }
  },
  "cells": [
    {
      "cell_type": "code",
      "execution_count": 1,
      "metadata": {
        "id": "IoExY8mJ_WXv"
      },
      "outputs": [],
      "source": [
        "from bs4 import BeautifulSoup\n",
        "from matplotlib.pyplot import cla\n",
        "from numpy import tile\n",
        "from csv import writer\n",
        "import requests"
      ]
    },
    {
      "cell_type": "code",
      "source": [
        "url='https://kinige.com/'"
      ],
      "metadata": {
        "id": "XxD4H3FZ_akf"
      },
      "execution_count": 2,
      "outputs": []
    },
    {
      "cell_type": "code",
      "source": [
        "page=requests.get(url)\n",
        "soup=BeautifulSoup(page.content,'html.parser')"
      ],
      "metadata": {
        "id": "ieACpWTI_d8j"
      },
      "execution_count": 3,
      "outputs": []
    },
    {
      "cell_type": "code",
      "source": [
        "links=soup.find_all('div',class_='small-12 columns')"
      ],
      "metadata": {
        "id": "E30NRjyC_iHD"
      },
      "execution_count": 4,
      "outputs": []
    },
    {
      "cell_type": "code",
      "source": [
        "bookLinks=[]\n",
        "title=[]\n",
        "author=[]\n",
        "aboutauthor=[]\n",
        "i=0\n",
        "for link in links:\n",
        "  try:\n",
        "    a=link.find('h2').find('a')\n",
        "    if i%2==0:\n",
        "      bookLinks.append(a['href'])\n",
        "      title.append(a.text)\n",
        "    else:\n",
        "      aboutauthor.append(a['href'])\n",
        "      author.append(a.text)\n",
        "    i+=1\n",
        "  except:\n",
        "    pass"
      ],
      "metadata": {
        "id": "w2_9LXGR_tLl"
      },
      "execution_count": 6,
      "outputs": []
    },
    {
      "cell_type": "code",
      "source": [
        "len(links)"
      ],
      "metadata": {
        "colab": {
          "base_uri": "https://localhost:8080/"
        },
        "id": "UjAI1nsuAHyJ",
        "outputId": "7cdfa2ad-6a66-41b5-9a01-d9d997bfa6a3"
      },
      "execution_count": 7,
      "outputs": [
        {
          "output_type": "execute_result",
          "data": {
            "text/plain": [
              "267"
            ]
          },
          "metadata": {},
          "execution_count": 7
        }
      ]
    },
    {
      "cell_type": "code",
      "source": [
        "bookLinks"
      ],
      "metadata": {
        "colab": {
          "base_uri": "https://localhost:8080/"
        },
        "id": "cOE-hKN_ALF4",
        "outputId": "0c045d42-0c0a-4c61-d7b9-ec95a98c64ca"
      },
      "execution_count": null,
      "outputs": [
        {
          "output_type": "execute_result",
          "data": {
            "text/plain": [
              "['https://kinige.com/book/Matti+Vedam',\n",
              " 'https://kinige.com/book/Bhavani+Bharati',\n",
              " 'https://kinige.com/book/Kalarekha+Ee+Satabdi+Chintana',\n",
              " 'https://kinige.com/book/Ee+Nagaram+Jabilli',\n",
              " 'https://kinige.com/book/TANA+Patrika+May+2022',\n",
              " 'https://kinige.com/book/Rukminisa+Vijayah',\n",
              " 'https://kinige.com/book/Sri+Seetarama+Kalyanamu+Vachananuvadamu',\n",
              " 'https://kinige.com/book/Paravartanam',\n",
              " 'https://kinige.com/book/Etivalu+Jnapakam',\n",
              " 'https://kinige.com/book/Sri+Andhra+Raghuvamsamu',\n",
              " 'https://kinige.com/book/Tummala+Seetharama+Murthy+Kanakabhisheka+Sanmana+Sanchika+1948',\n",
              " 'https://kinige.com/book/Dhatru+Prasnah+Athva+Vedantamandanam',\n",
              " 'https://kinige.com/book/Tak+Tak+Tak',\n",
              " 'https://kinige.com/book/Kalasarpadosham',\n",
              " 'https://kinige.com/book/Final+Warning',\n",
              " 'https://kinige.com/book/Sree+Chinnamastaa+saadhana',\n",
              " 'https://kinige.com/book/Okkade',\n",
              " 'https://kinige.com/book/Saayamkaalamaindi',\n",
              " 'https://kinige.com/book/Rajakeeya+Kathalu',\n",
              " 'https://kinige.com/book/65+Mandi+Telugu+Rachayitala+Kotta+Kathalu',\n",
              " 'https://kinige.com/book/Sammanyudu',\n",
              " 'https://kinige.com/book/Neelamraju+Note+Book+1',\n",
              " 'https://kinige.com/book/Matladavalisindi+Sramika+Varga+Astitvam+Gurinche',\n",
              " 'https://kinige.com/book/Khajoora+Vatika',\n",
              " 'https://kinige.com/book/Toorpu+Godavari+Yatra',\n",
              " 'https://kinige.com/book/Bhavani+Bharati',\n",
              " 'https://kinige.com/book/TANA+Patrika+May+2022',\n",
              " 'https://kinige.com/book/Rukminisa+Vijayah',\n",
              " 'https://kinige.com/book/Sri+Seetarama+Kalyanamu+Vachananuvadamu',\n",
              " 'https://kinige.com/book/Etivalu+Jnapakam',\n",
              " 'https://kinige.com/book/Sri+Andhra+Raghuvamsamu',\n",
              " 'https://kinige.com/book/Tummala+Seetharama+Murthy+Kanakabhisheka+Sanmana+Sanchika+1948',\n",
              " 'https://kinige.com/book/Dhatru+Prasnah+Athva+Vedantamandanam',\n",
              " 'https://kinige.com/book/Padya+Prabhatam',\n",
              " 'https://kinige.com/book/Soumanasyamu',\n",
              " 'https://kinige.com/book/Tea+Satakam',\n",
              " 'https://kinige.com/book/Nirupama',\n",
              " 'https://kinige.com/book/Misimi+April+2022',\n",
              " 'https://kinige.com/book/Sri+Ramakrishna+Prabha+February+2019',\n",
              " 'https://kinige.com/book/Darshanam+April+2022',\n",
              " 'https://kinige.com/book/Mana+Arogyam+March+2020',\n",
              " 'https://kinige.com/book/Praja+Sahiti+February+2015',\n",
              " 'https://kinige.com/book/Cine+Scope+70MM+August+2015',\n",
              " 'https://kinige.com/book/Kalam+Salam',\n",
              " 'https://kinige.com/book/Kollayi+Gattitenemi',\n",
              " 'https://kinige.com/book/Bulli+Balasiksha',\n",
              " 'https://kinige.com/book/Silalapai+Chekkina+Kavitvam+Hampi',\n",
              " 'https://kinige.com/book/Ramayana+Vishavruksham',\n",
              " 'https://kinige.com/book/Matruvandanam',\n",
              " 'https://kinige.com/book/Kalam+Salam',\n",
              " 'https://kinige.com/book/Okka+Maata+Kavitatvaalu',\n",
              " 'https://kinige.com/book/Pichchodu',\n",
              " 'https://kinige.com/book/Naalo',\n",
              " 'https://kinige.com/book/Amrutham+Kurisina+Rathri',\n",
              " 'https://kinige.com/book/Ekalavya',\n",
              " 'https://kinige.com/book/Siggu+Padite+Success+Raadu',\n",
              " 'https://kinige.com/book/Peddakka+Prayanam',\n",
              " 'https://kinige.com/book/Rudramadevi',\n",
              " 'https://kinige.com/book/French+Palanalo+Yanam',\n",
              " 'https://kinige.com/book/The+Inspiration+to+Mankind-free',\n",
              " 'https://kinige.com/book/Silalapai+Chekkina+Kavitvam+Hampi',\n",
              " 'https://kinige.com/book/Money+Management',\n",
              " 'https://kinige.com/book/Comedy+Dot+Com',\n",
              " 'https://kinige.com/book/Sriramana+Peradeelu',\n",
              " 'https://kinige.com/book/Vanguri+Chitten+Raju+Cheppina+Nootapadahaaru+Amerikaamedy+Kathalu',\n",
              " 'https://kinige.com/book/100+percent+navvu+kathalu',\n",
              " 'https://kinige.com/book/Software+ItiHasyam',\n",
              " 'https://kinige.com/book/Samkshipta+Ramayanam',\n",
              " 'https://kinige.com/book/Sri+Durmukhi+Nama+Samvatsara+Kalachakram+Panchangam',\n",
              " 'https://kinige.com/book/Karteekapuranam+Mohan+Publications',\n",
              " 'https://kinige.com/book/Sri+Kanchi+Kamakoti+Peeta+Asthana+Sidhanti+Sri+Durmukhi+Nama+Samvatsara+Gantala+Panchangamu+2016+and+2017',\n",
              " 'https://kinige.com/book/Yadartha+Geeta',\n",
              " 'https://kinige.com/book/The+Inspiration+to+Mankind-free',\n",
              " 'https://kinige.com/book/Oka+Schezophrenic+Kalalu+Gnapakalu',\n",
              " 'https://kinige.com/book/Naravataram',\n",
              " 'https://kinige.com/book/elaa+telusukunnam+13+14+15+16',\n",
              " 'https://kinige.com/book/Vitamins',\n",
              " 'https://kinige.com/book/Nitya+Jeevitamlo+Rasayana+Sastram',\n",
              " 'https://kinige.com/book/Jeevanadi+Raktham+Katha',\n",
              " 'https://kinige.com/book/Pawan+Kalyan+Hataao+Politics+Bachao',\n",
              " 'https://kinige.com/book/Asthaminchani+Ravi',\n",
              " 'https://kinige.com/book/Nizam+Kathalu+1',\n",
              " 'https://kinige.com/book/Oduvani+Muchchata',\n",
              " 'https://kinige.com/book/Aravai+Vasanthala+Na+Rajakeeya+Prasthanam',\n",
              " 'https://kinige.com/book/Jeevitame+Poratam']"
            ]
          },
          "metadata": {},
          "execution_count": 7
        }
      ]
    },
    {
      "cell_type": "code",
      "source": [
        "aboutauthor"
      ],
      "metadata": {
        "id": "VOYdzVOyAp-t",
        "colab": {
          "base_uri": "https://localhost:8080/"
        },
        "outputId": "f4188852-1d3d-48c5-a4a1-46d33357e12c"
      },
      "execution_count": null,
      "outputs": [
        {
          "output_type": "execute_result",
          "data": {
            "text/plain": [
              "['https://kinige.com/author/Varanasi+Bhanumurthy+Rao ',\n",
              " 'https://kinige.com/author/Dr.+Suram+Srinivasulu ',\n",
              " 'https://kinige.com/author/Gunturu+Seshendra+Sharma ',\n",
              " 'https://kinige.com/author/Gunturu+Seshendra+Sharma ',\n",
              " 'https://kinige.com/author/TANA+Patrika ',\n",
              " 'https://kinige.com/author/Dr.+Suram+Srinivasulu ',\n",
              " 'https://kinige.com/author/Kota+Rajashekhar ',\n",
              " 'https://kinige.com/author/Rapolu+Seeta+Rama+Raju ',\n",
              " 'https://kinige.com/author/Dr.+Suram+Srinivasulu ',\n",
              " 'https://kinige.com/author/Alamuru+Venkatachalamu ',\n",
              " 'https://kinige.com/author/Multiple+Authors ',\n",
              " 'https://kinige.com/author/Dr.+Suram+Srinivasulu ',\n",
              " 'https://kinige.com/author/Vijayarke ',\n",
              " 'https://kinige.com/author/Dr.+Pandit+Malladi+Mani ',\n",
              " 'https://kinige.com/author/Madhubabu ',\n",
              " 'https://kinige.com/author/Dr.+Jayanti+Chakravarthi ',\n",
              " 'https://kinige.com/author/Suryadevara+Rammohana+Rao ',\n",
              " 'https://kinige.com/author/Gollapudi+Maruthi+Rao ',\n",
              " 'https://kinige.com/author/Volga ',\n",
              " 'https://kinige.com/author/Multiple+Authors ',\n",
              " 'https://kinige.com/author/Chembolu+Sriramasastry ',\n",
              " 'https://kinige.com/author/Neelamraju+Lakshmi+Prasad ',\n",
              " 'https://kinige.com/author/Ranganayakamma ',\n",
              " 'https://kinige.com/author/B.Geetika ',\n",
              " 'https://kinige.com/author/Sabbella+Sivannarayana+Reddy ',\n",
              " 'https://kinige.com/author/Dr.+Suram+Srinivasulu ',\n",
              " 'https://kinige.com/author/TANA+Patrika ',\n",
              " 'https://kinige.com/author/Dr.+Suram+Srinivasulu ',\n",
              " 'https://kinige.com/author/Kota+Rajashekhar ',\n",
              " 'https://kinige.com/author/Dr.+Suram+Srinivasulu ',\n",
              " 'https://kinige.com/author/Alamuru+Venkatachalamu ',\n",
              " 'https://kinige.com/author/Multiple+Authors ',\n",
              " 'https://kinige.com/author/Dr.+Suram+Srinivasulu ',\n",
              " 'https://kinige.com/author/Palaparti+Haveela ',\n",
              " 'https://kinige.com/author/Dr.+Suram+Srinivasulu ',\n",
              " 'https://kinige.com/author/Vittu+Babu ',\n",
              " 'https://kinige.com/author/Kotra+Siva+Rama+Krishna ',\n",
              " 'https://kinige.com/author/Misimi ',\n",
              " 'https://kinige.com/author/Sri+Ramakrishna+Prabha+Magazine ',\n",
              " 'https://kinige.com/author/Darshanam+Magazine ',\n",
              " 'https://kinige.com/author/Mana+Arogyam+Magazine ',\n",
              " 'https://kinige.com/author/Janasahiti ',\n",
              " 'https://kinige.com/author/Suresh+Choppara ',\n",
              " 'https://kinige.com/author/Kavi+Sangamam ',\n",
              " 'https://kinige.com/author/Mahidhara+Rama+Mohana+Rao ',\n",
              " 'https://kinige.com/author/N.V.Acharya ',\n",
              " 'https://kinige.com/author/Dasaradh ',\n",
              " 'https://kinige.com/author/Ranganayakamma ',\n",
              " 'https://kinige.com/author/Vedavyasa ',\n",
              " 'https://kinige.com/author/Kavi+Sangamam ',\n",
              " 'https://kinige.com/author/Sateesh+Kumar+Yashasvi ',\n",
              " 'https://kinige.com/author/Manasri ',\n",
              " 'https://kinige.com/author/Manasri ',\n",
              " 'https://kinige.com/author/Devarakonda+Balagangadhara+Thilak ',\n",
              " 'https://kinige.com/author/Bhallamudi+Seetarama+Murty ',\n",
              " 'https://kinige.com/author/Dr+Vaasili+Vasanta+Kumar ',\n",
              " 'https://kinige.com/author/Dr.+Malleeswari ',\n",
              " 'https://kinige.com/author/Mohan+Publications ',\n",
              " 'https://kinige.com/author/Bolloju+Baba ',\n",
              " 'https://kinige.com/author/Bendalam+Krishna+Rao ',\n",
              " 'https://kinige.com/author/Dasaradh ',\n",
              " 'https://kinige.com/author/Ravi+Kishore+Mallapragada ',\n",
              " 'https://kinige.com/author/Telugu+Bloggers ',\n",
              " 'https://kinige.com/author/Sri+Ramana ',\n",
              " 'https://kinige.com/author/Dr.+Vanguri+Chitten+Raju ',\n",
              " 'https://kinige.com/author/Gangadhar+Vadlammanati ',\n",
              " 'https://kinige.com/author/Anantharam+Addanki ',\n",
              " 'https://kinige.com/author/Tumuluru+Prabha ',\n",
              " 'https://kinige.com/author/Ponnaluri+Srinivasa+Gargeya ',\n",
              " 'https://kinige.com/author/Dr.+Nori+Bhogiswara+Sarma ',\n",
              " 'https://kinige.com/author/Lakkavarjhula+Subrahmanya+Sidhanti ',\n",
              " 'https://kinige.com/author/Mohan+Publications ',\n",
              " 'https://kinige.com/author/Bendalam+Krishna+Rao ',\n",
              " 'https://kinige.com/author/T.+Malla+Reddy+%28Surya%29 ',\n",
              " 'https://kinige.com/author/Nanduri+Ramamohana+Rao ',\n",
              " 'https://kinige.com/author/%E0%B0%90%E0%B0%9C%E0%B0%BE%E0%B0%95%E0%B1%8D+%E0%B0%85%E0%B0%B8%E0%B0%BF%E0%B0%AE%E0%B1%8B%E0%B0%B5%E0%B1%8D ',\n",
              " 'https://kinige.com/author/%E0%B0%90%E0%B0%9C%E0%B0%BE%E0%B0%95%E0%B1%8D+%E0%B0%85%E0%B0%B8%E0%B0%BF%E0%B0%AE%E0%B1%8B%E0%B0%B5%E0%B1%8D ',\n",
              " 'https://kinige.com/author/Vemuri+Venkateswara+Rao ',\n",
              " 'https://kinige.com/author/Vemuri+Venkateswara+Rao ',\n",
              " 'https://kinige.com/author/Boggula+Srinivas ',\n",
              " 'https://kinige.com/author/Khadar+Mohiuddeen ',\n",
              " 'https://kinige.com/author/M.B.S.+Prasad ',\n",
              " 'https://kinige.com/author/Prof.+Jayashankar ',\n",
              " 'https://kinige.com/author/Chegondi+Hara+Rama+Jogaiah ',\n",
              " 'https://kinige.com/author/Souda+Naveen ']"
            ]
          },
          "metadata": {},
          "execution_count": 8
        }
      ]
    },
    {
      "cell_type": "code",
      "source": [
        "\n",
        "author"
      ],
      "metadata": {
        "colab": {
          "base_uri": "https://localhost:8080/"
        },
        "id": "Gu2ZoyjVAvix",
        "outputId": "1e1942fd-484a-4b7f-86ad-42036f7c68f5"
      },
      "execution_count": null,
      "outputs": [
        {
          "output_type": "execute_result",
          "data": {
            "text/plain": [
              "['- Kota Rajashekhar ',\n",
              " '- Darshanam Magazine ',\n",
              " '- Varanasi Bhanumurthy Rao ',\n",
              " '- Dr. Suram Srinivasulu ',\n",
              " '- Gunturu Seshendra Sharma ',\n",
              " '- Gunturu Seshendra Sharma ',\n",
              " '- TANA Patrika ',\n",
              " '- Dr. Suram Srinivasulu ',\n",
              " '- Kota Rajashekhar ',\n",
              " '- Rapolu Seeta Rama Raju ',\n",
              " '- Dr. Suram Srinivasulu ',\n",
              " '- Alamuru Venkatachalamu ',\n",
              " '- Sri Sarvari ',\n",
              " '- Madhubabu ',\n",
              " '- Narisetti Innaiah ',\n",
              " '- Dr.K.Kiran Kumar ',\n",
              " '- Suryadevara Rammohana Rao ',\n",
              " '- Kekalathuri Krishnaiah ',\n",
              " '- Gollapudi Maruthi Rao ',\n",
              " '- Gunturu Seshendra Sharma ',\n",
              " '- Tanikella Bharani ',\n",
              " '- Ramadevi Cheluru ',\n",
              " '- K.N. Malleeswari ',\n",
              " '- Y. Mukunda Rama Rao ',\n",
              " '- Sabbella Sivannarayana Reddy ',\n",
              " '- Kota Rajashekhar ',\n",
              " '- Dr. Suram Srinivasulu ',\n",
              " '- TANA Patrika ',\n",
              " '- Dr. Suram Srinivasulu ',\n",
              " '- Kota Rajashekhar ',\n",
              " '- Dr. Suram Srinivasulu ',\n",
              " '- Alamuru Venkatachalamu ',\n",
              " '- Multiple Authors ',\n",
              " '- Dr. Suram Srinivasulu ',\n",
              " '- Palaparti Haveela ',\n",
              " '- Dr. Suram Srinivasulu ',\n",
              " '- Vittu Babu ',\n",
              " '- Misimi ',\n",
              " '- Sri Ramakrishna Prabha Magazine ',\n",
              " '- Darshanam Magazine ',\n",
              " '- Mana Arogyam Magazine ',\n",
              " '- Janasahiti ',\n",
              " '- Suresh Choppara ',\n",
              " '- Kavi Sangamam ',\n",
              " '- Mahidhara Rama Mohana Rao ',\n",
              " '- N.V.Acharya ',\n",
              " '- Dasaradh ',\n",
              " '- Ranganayakamma ',\n",
              " '- Vedavyasa ',\n",
              " '- Kavi Sangamam ',\n",
              " '- Sateesh Kumar Yashasvi ',\n",
              " '- Manasri ',\n",
              " '- Manasri ',\n",
              " '- Devarakonda Balagangadhara Thilak ',\n",
              " '- Bhallamudi Seetarama Murty ',\n",
              " '- Dr Vaasili Vasanta Kumar ',\n",
              " '- Dr. Malleeswari ',\n",
              " '- Mohan Publications ',\n",
              " '- Bolloju Baba ',\n",
              " '- Bendalam Krishna Rao ',\n",
              " '- Dasaradh ',\n",
              " '- Ravi Kishore Mallapragada ',\n",
              " '- Telugu Bloggers ',\n",
              " '- Sri Ramana ',\n",
              " '- Dr. Vanguri Chitten Raju ',\n",
              " '- Gangadhar Vadlammanati ',\n",
              " '- Anantharam Addanki ',\n",
              " '- Tumuluru Prabha ',\n",
              " '- Ponnaluri Srinivasa Gargeya ',\n",
              " '- Dr. Nori Bhogiswara Sarma ',\n",
              " '- Lakkavarjhula Subrahmanya Sidhanti ',\n",
              " '- Mohan Publications ',\n",
              " '- Bendalam Krishna Rao ',\n",
              " '- T. Malla Reddy (Surya) ',\n",
              " '- Nanduri Ramamohana Rao ',\n",
              " '- ఐజాక్ అసిమోవ్ ',\n",
              " '- ఐజాక్ అసిమోవ్ ',\n",
              " '- Vemuri Venkateswara Rao ',\n",
              " '- Vemuri Venkateswara Rao ',\n",
              " '- Boggula Srinivas ',\n",
              " '- Khadar Mohiuddeen ',\n",
              " '- M.B.S. Prasad ',\n",
              " '- Prof. Jayashankar ',\n",
              " '- Chegondi Hara Rama Jogaiah ',\n",
              " '- Souda Naveen ']"
            ]
          },
          "metadata": {},
          "execution_count": 9
        }
      ]
    },
    {
      "cell_type": "code",
      "source": [
        "title"
      ],
      "metadata": {
        "colab": {
          "base_uri": "https://localhost:8080/"
        },
        "id": "PUHF6rnDA0Ha",
        "outputId": "e2b1059a-f472-4557-8859-18807b4cc0c7"
      },
      "execution_count": null,
      "outputs": [
        {
          "output_type": "execute_result",
          "data": {
            "text/plain": [
              "['శ్రీ సీతారామ కల్యాణము - పద్యకావ్యము (free) ',\n",
              " 'దర్శనమ్ జూన్ 2022',\n",
              " 'మట్టి వేదం',\n",
              " 'భవానీ భారతీ (free) ',\n",
              " 'కాలరేఖ - ఈ శతాబ్ది చింతన',\n",
              " 'ఈ నగరం జాబిల్లి',\n",
              " 'తానా పత్రిక మే 2022 (free) ',\n",
              " 'రుక్మిణీశవిజయః (free) ',\n",
              " 'శ్రీ సీతారామ కల్యాణము - వచనానువాదము (free) ',\n",
              " 'పరావర్తనం',\n",
              " 'ఏటివాలు జ్ఞాపకం (free) ',\n",
              " 'శ్రీ ఆంధ్ర రఘువంశము (free) ',\n",
              " 'శంబల',\n",
              " 'ఫైనల్ వార్నింగ్',\n",
              " 'దేవుడి భ్రమలో',\n",
              " 'ఫ్యూచర్స్ & ఆప్షన్స్',\n",
              " 'ఋగ్వేద - 2',\n",
              " 'A Guide to EHT SubStations',\n",
              " 'సాయంకాలమైంది',\n",
              " 'నా దేశం - నా ప్రజలు (ఆధునిక మహాభారతంలో ప్రజా పర్వము)',\n",
              " 'తనికెళ్ళ భరణి నాటికలు 123',\n",
              " 'జాత్యాహంకారి హిట్లర్',\n",
              " 'నీల',\n",
              " 'ఖలిల్ జిబ్రాన్ - ఇసుక నురగ',\n",
              " 'తూర్పు గోదావరి యాత్ర',\n",
              " 'శ్రీ సీతారామ కల్యాణము - పద్యకావ్యము (free) ',\n",
              " 'భవానీ భారతీ (free) ',\n",
              " 'తానా పత్రిక మే 2022 (free) ',\n",
              " 'రుక్మిణీశవిజయః (free) ',\n",
              " 'శ్రీ సీతారామ కల్యాణము - వచనానువాదము (free) ',\n",
              " 'ఏటివాలు జ్ఞాపకం (free) ',\n",
              " 'శ్రీ ఆంధ్ర రఘువంశము (free) ',\n",
              " 'తుమ్మల సీతారామమూర్తి కనకాభిషేక సన్మాన సంచిక - 1948 (free) ',\n",
              " 'ధాతృప్రశ్నః అథవా వేదాన్తమణ్డనమ్ (free) ',\n",
              " 'పద్యప్రభాతం (free) ',\n",
              " 'సౌమనస్యము (free) ',\n",
              " 'టీ శతకం (free) ',\n",
              " 'మిసిమి ఏప్రిల్ 2022',\n",
              " 'శ్రీ రామకృష్ణ ప్రభ ఫిబ్రవరి 2019',\n",
              " 'దర్శనమ్ జూన్ 2022',\n",
              " 'మన ఆరోగ్యం మార్చి 2020',\n",
              " 'ప్రజాసాహితి ఫిబ్రవరి 2015',\n",
              " 'సినీ స్కోప్ 70 ఎమ్ఎమ్ ఆగస్ట్ 2015',\n",
              " 'కలాం సలాం! (free) ',\n",
              " 'కొల్లాయి గట్టితేనేమి? (free) ',\n",
              " 'బుల్లి బాలశిక్ష (free) ',\n",
              " 'శిలలపై చెక్కిన కవిత్వం - హంపి (free) ',\n",
              " 'రామాయణ విషవృక్షం',\n",
              " 'మాతృవందనం (free) ',\n",
              " 'కలాం సలాం! (free) ',\n",
              " 'ఒక్కమాట: ‘కవితత్వాలు’ (free) ',\n",
              " 'పిచ్చోడు (free) ',\n",
              " 'నాలో... (free) ',\n",
              " 'అమృతం కురిసిన రాత్రి',\n",
              " 'ఏకలవ్య (free) ',\n",
              " 'సిగ్గు పడితే సక్సెస్ రాదు!',\n",
              " 'పెద్దక్క ప్రయాణం (free) ',\n",
              " 'రుద్రమదేవి (free) ',\n",
              " 'ఫ్రెంచి పాలనలో యానాం (free) ',\n",
              " 'The Inspiration to Mankind (free) ',\n",
              " 'శిలలపై చెక్కిన కవిత్వం - హంపి (free) ',\n",
              " 'మనీ మేనేజ్\\u200cమెంట్ (free) ',\n",
              " 'కామెడీ . కామ్',\n",
              " 'శ్రీరమణ పేరడీలు',\n",
              " 'వంగూరి చిట్టెన్\\u200d రాజు చెప్పిన నూటపదహారు అమెరికామెడీ కథలు',\n",
              " '100% నవ్వు కథలు',\n",
              " 'సాఫ్ట్\\u200cవేర్ ‘ఇతి’హాస్యం',\n",
              " 'సంక్షిప్త రామాయణం (free) ',\n",
              " 'శ్రీ దుర్ముఖి నామ సంవత్సర కాలచక్రం, పంచాగము (free) ',\n",
              " 'కార్తీకపురాణము - మోహన్ పబ్లికేషన్స్ (free) ',\n",
              " 'శ్రీ కంచి కామకోటి పీఠ ఆస్థాన సిద్ధాంతి - శ్రీ దుర్ముఖి నామ సంవత్సర గంటల పంచాంగము (2016 - 2017) (free) ',\n",
              " 'యదార్థ గీత (free) ',\n",
              " 'The Inspiration to Mankind (free) ',\n",
              " 'ఒక స్కిజోఫ్రీనిక్ కలలు, జ్ఞాపకాలు (free) ',\n",
              " 'నరావతారం',\n",
              " 'ఎలా తెలుసుకున్నాం 13 14 15 16',\n",
              " 'విటమిన్లు',\n",
              " 'నిత్యజీవితంలో రసాయన శాస్త్రం',\n",
              " 'జీవనది – రక్తం కథ',\n",
              " 'పవన్ కల్యాణ్ హటావో... పాలిటిక్స్ బచావో...',\n",
              " 'అస్తమించని రవి',\n",
              " 'నిజాం కథలు 1',\n",
              " 'వొడువని ముచ్చట',\n",
              " 'అరవై వసంతాల నా రాజకీయ ప్రస్థానం',\n",
              " 'జీవితమే పోరాటం (free) ']"
            ]
          },
          "metadata": {},
          "execution_count": 10
        }
      ]
    },
    {
      "cell_type": "code",
      "source": [
        "publisher=[]\n",
        "aboutPublisher=[]\n",
        "pages=[]\n",
        "for bookLink in bookLinks:\n",
        "  inpage=requests.get(bookLink)\n",
        "  insoup=BeautifulSoup(inpage.content,'lxml')\n",
        "  classOfPublisher=insoup.find_all('div','small-12 large-8 columns')\n",
        "  temp=True\n",
        "  temp2=True\n",
        "  for cop in classOfPublisher:\n",
        "    try:\n",
        "      linkOfPublisher=cop.find('h2').find('a')\n",
        "      if linkOfPublisher['itemprop']=='publisher':\n",
        "        temp=False\n",
        "        aboutPublisher.append(linkOfPublisher['href'])\n",
        "        publisher.append(linkOfPublisher.text)\n",
        "    except:\n",
        "      pass\n",
        "  if(temp==True):\n",
        "    publisher.append('None')\n",
        "  classOfPages=insoup.find_all('div','small-12 columns')\n",
        "  for copages in classOfPages:\n",
        "    try:\n",
        "      pages_span=copages.find('span')\n",
        "      #print(pages_span)\n",
        "      if pages_span['itemprop']=='numberOfPages':\n",
        "        temp2=False\n",
        "        pages.append(pages_span.text)\n",
        "        print(pages_span.text)\n",
        "    except:\n",
        "      pass\n",
        "  if temp2==True:\n",
        "    pages.append('None')"
      ],
      "metadata": {
        "colab": {
          "base_uri": "https://localhost:8080/"
        },
        "id": "kabPN95TIsn4",
        "outputId": "b613c16a-a8ad-4655-8196-6d5f37fc21b7"
      },
      "execution_count": null,
      "outputs": [
        {
          "output_type": "stream",
          "name": "stdout",
          "text": [
            "129\n",
            "112\n",
            "184\n",
            "72\n",
            "60\n",
            "1072\n",
            "136\n",
            "160\n",
            "170\n",
            "440\n",
            "156\n",
            "102\n",
            "43\n",
            "82\n",
            "337\n",
            "112\n",
            "124\n",
            "319\n",
            "584\n",
            "200\n",
            "40\n",
            "102\n",
            "157\n",
            "184\n",
            "112\n",
            "60\n",
            "1072\n",
            "136\n",
            "170\n",
            "440\n",
            "156\n",
            "102\n",
            "52\n",
            "62\n",
            "32\n",
            "213\n",
            "82\n",
            "42\n",
            "66\n",
            "50\n",
            "48\n",
            "20\n",
            "76\n",
            "462\n",
            "60\n",
            "106\n",
            "746\n",
            "26\n",
            "76\n",
            "177\n",
            "50\n",
            "44\n",
            "33\n",
            "144\n",
            "48\n",
            "8\n",
            "210\n",
            "213\n",
            "106\n",
            "154\n",
            "195\n",
            "476\n",
            "95\n",
            "81\n",
            "16\n",
            "246\n",
            "80\n",
            "210\n",
            "317\n",
            "213\n",
            "52\n",
            "216\n",
            "167\n",
            "152\n",
            "208\n",
            "166\n",
            "155\n"
          ]
        }
      ]
    },
    {
      "cell_type": "code",
      "source": [
        "print(len(publisher),publisher[-1])\n",
        "print(len(pages),pages[-1])\n",
        "print(len(title),title[-1])\n",
        "print(len(author),author[-1])\n",
        "print(len(aboutauthor))\n",
        "print(len(bookLinks))"
      ],
      "metadata": {
        "colab": {
          "base_uri": "https://localhost:8080/"
        },
        "id": "vZJeEFvLJxxA",
        "outputId": "4ab8dbe4-1882-49c0-8631-b71dcc79a10e"
      },
      "execution_count": null,
      "outputs": [
        {
          "output_type": "stream",
          "name": "stdout",
          "text": [
            "85 RK Publications\n",
            "85 155\n",
            "85 జీవితమే పోరాటం (free) \n",
            "85 - Souda Naveen \n",
            "85\n",
            "85\n"
          ]
        }
      ]
    },
    {
      "cell_type": "code",
      "source": [
        "import pandas as pd"
      ],
      "metadata": {
        "id": "k7CZHkHXM4Gt"
      },
      "execution_count": null,
      "outputs": []
    },
    {
      "cell_type": "code",
      "source": [
        "\n",
        "df=pd.DataFrame()"
      ],
      "metadata": {
        "id": "yddtrifoT7GL"
      },
      "execution_count": null,
      "outputs": []
    },
    {
      "cell_type": "code",
      "source": [
        "from pandas.core.internals.managers import T\n",
        "df['TITLE']=title"
      ],
      "metadata": {
        "id": "DMT4m6TYT_xv"
      },
      "execution_count": null,
      "outputs": []
    },
    {
      "cell_type": "code",
      "source": [
        "df['AUTHOR']=author\n",
        "df['ABOUT_AUTHOR']=aboutauthor\n",
        "df['NO_OF_PAGES']=pages\n",
        "df['PUBLISHER']=publisher\n",
        "df['LINK']=bookLinks"
      ],
      "metadata": {
        "id": "SiuaXodKULvQ"
      },
      "execution_count": null,
      "outputs": []
    },
    {
      "cell_type": "code",
      "source": [
        "df.head()"
      ],
      "metadata": {
        "colab": {
          "base_uri": "https://localhost:8080/",
          "height": 406
        },
        "id": "DayGMRL1VDR1",
        "outputId": "34b4b01f-eb01-4411-a474-5bd465124de0"
      },
      "execution_count": null,
      "outputs": [
        {
          "output_type": "execute_result",
          "data": {
            "text/plain": [
              "                         TITLE                       AUTHOR  \\\n",
              "0                   మట్టి వేదం  - Varanasi Bhanumurthy Rao    \n",
              "1          భవానీ భారతీ (free)      - Dr. Suram Srinivasulu    \n",
              "2     కాలరేఖ - ఈ శతాబ్ది చింతన  - Gunturu Seshendra Sharma    \n",
              "3              ఈ నగరం జాబిల్లి  - Gunturu Seshendra Sharma    \n",
              "4  తానా పత్రిక మే 2022 (free)               - TANA Patrika    \n",
              "\n",
              "                                        ABOUT_AUTHOR NO_OF_PAGES  \\\n",
              "0  https://kinige.com/author/Varanasi+Bhanumurthy...         129   \n",
              "1   https://kinige.com/author/Dr.+Suram+Srinivasulu          112   \n",
              "2  https://kinige.com/author/Gunturu+Seshendra+Sh...         184   \n",
              "3  https://kinige.com/author/Gunturu+Seshendra+Sh...          72   \n",
              "4            https://kinige.com/author/TANA+Patrika           60   \n",
              "\n",
              "                                 PUBLISHER  \\\n",
              "0          Thapasvi Manoharam Publications   \n",
              "1                         Raavi Mohana Rao   \n",
              "2  Gunturu Seshendra Sharma Memorial Trust   \n",
              "3  Gunturu Seshendra Sharma Memorial Trust   \n",
              "4                        TANA Prachuranalu   \n",
              "\n",
              "                                                LINK  \n",
              "0                https://kinige.com/book/Matti+Vedam  \n",
              "1            https://kinige.com/book/Bhavani+Bharati  \n",
              "2  https://kinige.com/book/Kalarekha+Ee+Satabdi+C...  \n",
              "3         https://kinige.com/book/Ee+Nagaram+Jabilli  \n",
              "4      https://kinige.com/book/TANA+Patrika+May+2022  "
            ],
            "text/html": [
              "\n",
              "  <div id=\"df-c0aa4094-9f45-4bd4-9be7-76a44f7be66a\">\n",
              "    <div class=\"colab-df-container\">\n",
              "      <div>\n",
              "<style scoped>\n",
              "    .dataframe tbody tr th:only-of-type {\n",
              "        vertical-align: middle;\n",
              "    }\n",
              "\n",
              "    .dataframe tbody tr th {\n",
              "        vertical-align: top;\n",
              "    }\n",
              "\n",
              "    .dataframe thead th {\n",
              "        text-align: right;\n",
              "    }\n",
              "</style>\n",
              "<table border=\"1\" class=\"dataframe\">\n",
              "  <thead>\n",
              "    <tr style=\"text-align: right;\">\n",
              "      <th></th>\n",
              "      <th>TITLE</th>\n",
              "      <th>AUTHOR</th>\n",
              "      <th>ABOUT_AUTHOR</th>\n",
              "      <th>NO_OF_PAGES</th>\n",
              "      <th>PUBLISHER</th>\n",
              "      <th>LINK</th>\n",
              "    </tr>\n",
              "  </thead>\n",
              "  <tbody>\n",
              "    <tr>\n",
              "      <th>0</th>\n",
              "      <td>మట్టి వేదం</td>\n",
              "      <td>- Varanasi Bhanumurthy Rao</td>\n",
              "      <td>https://kinige.com/author/Varanasi+Bhanumurthy...</td>\n",
              "      <td>129</td>\n",
              "      <td>Thapasvi Manoharam Publications</td>\n",
              "      <td>https://kinige.com/book/Matti+Vedam</td>\n",
              "    </tr>\n",
              "    <tr>\n",
              "      <th>1</th>\n",
              "      <td>భవానీ భారతీ (free)</td>\n",
              "      <td>- Dr. Suram Srinivasulu</td>\n",
              "      <td>https://kinige.com/author/Dr.+Suram+Srinivasulu</td>\n",
              "      <td>112</td>\n",
              "      <td>Raavi Mohana Rao</td>\n",
              "      <td>https://kinige.com/book/Bhavani+Bharati</td>\n",
              "    </tr>\n",
              "    <tr>\n",
              "      <th>2</th>\n",
              "      <td>కాలరేఖ - ఈ శతాబ్ది చింతన</td>\n",
              "      <td>- Gunturu Seshendra Sharma</td>\n",
              "      <td>https://kinige.com/author/Gunturu+Seshendra+Sh...</td>\n",
              "      <td>184</td>\n",
              "      <td>Gunturu Seshendra Sharma Memorial Trust</td>\n",
              "      <td>https://kinige.com/book/Kalarekha+Ee+Satabdi+C...</td>\n",
              "    </tr>\n",
              "    <tr>\n",
              "      <th>3</th>\n",
              "      <td>ఈ నగరం జాబిల్లి</td>\n",
              "      <td>- Gunturu Seshendra Sharma</td>\n",
              "      <td>https://kinige.com/author/Gunturu+Seshendra+Sh...</td>\n",
              "      <td>72</td>\n",
              "      <td>Gunturu Seshendra Sharma Memorial Trust</td>\n",
              "      <td>https://kinige.com/book/Ee+Nagaram+Jabilli</td>\n",
              "    </tr>\n",
              "    <tr>\n",
              "      <th>4</th>\n",
              "      <td>తానా పత్రిక మే 2022 (free)</td>\n",
              "      <td>- TANA Patrika</td>\n",
              "      <td>https://kinige.com/author/TANA+Patrika</td>\n",
              "      <td>60</td>\n",
              "      <td>TANA Prachuranalu</td>\n",
              "      <td>https://kinige.com/book/TANA+Patrika+May+2022</td>\n",
              "    </tr>\n",
              "  </tbody>\n",
              "</table>\n",
              "</div>\n",
              "      <button class=\"colab-df-convert\" onclick=\"convertToInteractive('df-c0aa4094-9f45-4bd4-9be7-76a44f7be66a')\"\n",
              "              title=\"Convert this dataframe to an interactive table.\"\n",
              "              style=\"display:none;\">\n",
              "        \n",
              "  <svg xmlns=\"http://www.w3.org/2000/svg\" height=\"24px\"viewBox=\"0 0 24 24\"\n",
              "       width=\"24px\">\n",
              "    <path d=\"M0 0h24v24H0V0z\" fill=\"none\"/>\n",
              "    <path d=\"M18.56 5.44l.94 2.06.94-2.06 2.06-.94-2.06-.94-.94-2.06-.94 2.06-2.06.94zm-11 1L8.5 8.5l.94-2.06 2.06-.94-2.06-.94L8.5 2.5l-.94 2.06-2.06.94zm10 10l.94 2.06.94-2.06 2.06-.94-2.06-.94-.94-2.06-.94 2.06-2.06.94z\"/><path d=\"M17.41 7.96l-1.37-1.37c-.4-.4-.92-.59-1.43-.59-.52 0-1.04.2-1.43.59L10.3 9.45l-7.72 7.72c-.78.78-.78 2.05 0 2.83L4 21.41c.39.39.9.59 1.41.59.51 0 1.02-.2 1.41-.59l7.78-7.78 2.81-2.81c.8-.78.8-2.07 0-2.86zM5.41 20L4 18.59l7.72-7.72 1.47 1.35L5.41 20z\"/>\n",
              "  </svg>\n",
              "      </button>\n",
              "      \n",
              "  <style>\n",
              "    .colab-df-container {\n",
              "      display:flex;\n",
              "      flex-wrap:wrap;\n",
              "      gap: 12px;\n",
              "    }\n",
              "\n",
              "    .colab-df-convert {\n",
              "      background-color: #E8F0FE;\n",
              "      border: none;\n",
              "      border-radius: 50%;\n",
              "      cursor: pointer;\n",
              "      display: none;\n",
              "      fill: #1967D2;\n",
              "      height: 32px;\n",
              "      padding: 0 0 0 0;\n",
              "      width: 32px;\n",
              "    }\n",
              "\n",
              "    .colab-df-convert:hover {\n",
              "      background-color: #E2EBFA;\n",
              "      box-shadow: 0px 1px 2px rgba(60, 64, 67, 0.3), 0px 1px 3px 1px rgba(60, 64, 67, 0.15);\n",
              "      fill: #174EA6;\n",
              "    }\n",
              "\n",
              "    [theme=dark] .colab-df-convert {\n",
              "      background-color: #3B4455;\n",
              "      fill: #D2E3FC;\n",
              "    }\n",
              "\n",
              "    [theme=dark] .colab-df-convert:hover {\n",
              "      background-color: #434B5C;\n",
              "      box-shadow: 0px 1px 3px 1px rgba(0, 0, 0, 0.15);\n",
              "      filter: drop-shadow(0px 1px 2px rgba(0, 0, 0, 0.3));\n",
              "      fill: #FFFFFF;\n",
              "    }\n",
              "  </style>\n",
              "\n",
              "      <script>\n",
              "        const buttonEl =\n",
              "          document.querySelector('#df-c0aa4094-9f45-4bd4-9be7-76a44f7be66a button.colab-df-convert');\n",
              "        buttonEl.style.display =\n",
              "          google.colab.kernel.accessAllowed ? 'block' : 'none';\n",
              "\n",
              "        async function convertToInteractive(key) {\n",
              "          const element = document.querySelector('#df-c0aa4094-9f45-4bd4-9be7-76a44f7be66a');\n",
              "          const dataTable =\n",
              "            await google.colab.kernel.invokeFunction('convertToInteractive',\n",
              "                                                     [key], {});\n",
              "          if (!dataTable) return;\n",
              "\n",
              "          const docLinkHtml = 'Like what you see? Visit the ' +\n",
              "            '<a target=\"_blank\" href=https://colab.research.google.com/notebooks/data_table.ipynb>data table notebook</a>'\n",
              "            + ' to learn more about interactive tables.';\n",
              "          element.innerHTML = '';\n",
              "          dataTable['output_type'] = 'display_data';\n",
              "          await google.colab.output.renderOutput(dataTable, element);\n",
              "          const docLink = document.createElement('div');\n",
              "          docLink.innerHTML = docLinkHtml;\n",
              "          element.appendChild(docLink);\n",
              "        }\n",
              "      </script>\n",
              "    </div>\n",
              "  </div>\n",
              "  "
            ]
          },
          "metadata": {},
          "execution_count": 18
        }
      ]
    },
    {
      "cell_type": "code",
      "source": [
        "df.to_csv(\"teluguBooks.csv\")"
      ],
      "metadata": {
        "id": "0MljDM0zVMTc"
      },
      "execution_count": null,
      "outputs": []
    }
  ]
}